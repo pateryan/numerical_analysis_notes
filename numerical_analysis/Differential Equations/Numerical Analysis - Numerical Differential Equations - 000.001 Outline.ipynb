{
 "cells": [
  {
   "cell_type": "markdown",
   "metadata": {},
   "source": [
    "# Numerical Analysis 101: Differential Equations\n",
    "\n",
    "\n",
    "## 0.1: Outline\n",
    "\n",
    "These notes will comprise a formulation of the theory of differential equations from the ground up. This formulation will be rigorous and allow the reader to build upon the presented foundation in whichever direction they so choose. ***TODO: Complete outline***\n",
    "\n",
    "Examples in the text will generally come from applications in phusics and engineering, and occasionally from biology. Some specific examples will include ***TODO: Add examples***\n",
    "\n",
    "## More Detailed Notes\n",
    "\n",
    "A more detailed series of notes can be found in the `latex/` directory of this repository. These detailed notes form the basis for the Jupyter notebooks. They also include more detail, particularly for the foundational theory of ordinary differential equations (ODEs).\n",
    "\n",
    "## Prerequisites\n",
    "\n",
    "In principle, there are no prerequisites for these notes besides a first course in calculus and linear algebra. Nearly all tools used in these notes are defined when needed. However, it is strongly recommended to have at least a second (or third) course in calculus and linear algebra. Specifically, readers should ideally have experienced a more formal description of differentiation and integration in several variables, vector calculus, an introduction to real analysis, and an axiomatic treatment of vector spaces. That being said, it should not be hard to fill in gaps in knowledge as you progress through the notes.\n",
    "\n",
    "It is strongly recommended that readers have experience with Python. Algorithms will be provided in pseudo-code as well as Python, but cannot be fully appreciated without understanding their actual implementation.\n",
    "\n",
    "## Roadmap\n",
    "\n",
    "These notes follow the basic structure of [AMATH 342](https://uwaterloo.ca/applied-mathematics/current-undergraduates/undergraduate-course-list/amath-342cm-352-computational-methods-differential-equations) from the University of Waterloo, with several additions and more detail in some places. The topics covered in the order of presentation are:\n",
    "* Euler's Method\n",
    "* Multistep Methods\n",
    "* Runge-Kutta Methods\n",
    "* Stiff Equations\n",
    "* Parabolic Partial Differential Equations\n",
    "\n",
    "The first four chapters of these notes correspond to [A First Course in the Numerical Analysis of Differential Equations](https://www.cambridge.org/core/books/first-course-in-the-numerical-analysis-of-differential-equations/2B4E05F5CFC58CFDC7BBBC6D1150661B) by Arieh Iserles (we'll reference this text simply by *Iserles*), but we will also make use of [Numerical Methods for Ordinary Differential Equations](https://www.springer.com/gp/book/9780857291479) by Griffiths and Higham."
   ]
  },
  {
   "cell_type": "code",
   "execution_count": null,
   "metadata": {},
   "outputs": [],
   "source": []
  }
 ],
 "metadata": {
  "kernelspec": {
   "display_name": "Python 3",
   "language": "python",
   "name": "python3"
  },
  "language_info": {
   "codemirror_mode": {
    "name": "ipython",
    "version": 3
   },
   "file_extension": ".py",
   "mimetype": "text/x-python",
   "name": "python",
   "nbconvert_exporter": "python",
   "pygments_lexer": "ipython3",
   "version": "3.8.5"
  }
 },
 "nbformat": 4,
 "nbformat_minor": 4
}
